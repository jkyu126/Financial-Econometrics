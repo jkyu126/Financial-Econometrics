{
 "cells": [
  {
   "cell_type": "markdown",
   "metadata": {},
   "source": [
    "# Double Clustering - Estimating Standard Errors in Finance Panel Data sets: Comparing Approaches (Petersen, 2008, RFS) \n",
    "------\n",
    "**Simulation prepared by Jinkyu Kim (Dept. of Finance, Business School, Hanyang Univ.)**"
   ]
  },
  {
   "cell_type": "markdown",
   "metadata": {},
   "source": [
    "## Motivation"
   ]
  },
  {
   "cell_type": "markdown",
   "metadata": {},
   "source": [
    "It is well known that OLS standard errors are unbiased when the residuals are independent and identically distributed. When the residuals are correlated across observations, OLS standard errors can be **biased** and either over or **underestimate** the true variability of the coefﬁcient estimates."
   ]
  },
  {
   "cell_type": "markdown",
   "metadata": {},
   "source": [
    "There are two general forms of dependence that are most common in ﬁnance applications. They will serve as the basis for the analysis. The residuals of a given ﬁrm may be correlated across years for a given ﬁrm (time-series dependence). I will call this an unobserved **ﬁrm effect** (Wooldridge, 2007). Alternatively, the residuals of a given year may be correlated across different ﬁrms (cross-sectional dependence). I will call this a **time effect**."
   ]
  },
  {
   "cell_type": "markdown",
   "metadata": {},
   "source": [
    "Provided standard errors and methods\n",
    "----------\n",
    "OLS, White Error, Newey-West, Pooled OLS (same as OLS), Clustered by Firm, Clustered by Time (STATA default), Clustered by Firm and Time (STATA default), Fama and Macbeth\n",
    "\n",
    "When to use each each standard error?\n",
    "----------\n",
    "**FIRM EFFECT**: USE Std. Error **Clustered by FIRM**, or if you sure your firm effect is permanent, FE, RE (I don't provide here, if you need, just search on google) is okay\n",
    "\n",
    "**TIME EFFECT**: USE **Fama MacBeth**, or if T is sufficient, Std. Error clustered by Time is okay.\n",
    "\n",
    "**FIRM & TIME EFFECT**: if N,T is sufficient, **Double Clustering**, if not, consider using combination of **Time Dummy + Std. Error Clustered by FIRM**\n"
   ]
  },
  {
   "cell_type": "markdown",
   "metadata": {},
   "source": [
    "Simulation\n",
    "------------\n",
    "First, generate data. Assume there are 100 firms and 120 data points. \n",
    "\n",
    "(120 time points may represent monthly data with the period of 10 yr.)\n",
    "\n"
   ]
  },
  {
   "cell_type": "code",
   "execution_count": 27,
   "metadata": {},
   "outputs": [],
   "source": [
    "rm(list=ls())\n",
    "#Library\n",
    "library(sandwich); library(plm); library(lmtest);library(dplyr)"
   ]
  },
  {
   "cell_type": "markdown",
   "metadata": {},
   "source": [
    "Note that gamma and mu is firm effect (time constant) and delta and zeta is time effect (firm constant) and eta and nu is idiosyncratic part."
   ]
  },
  {
   "cell_type": "code",
   "execution_count": 28,
   "metadata": {},
   "outputs": [],
   "source": [
    "mydat = data.frame(firm=rep(1:100,each=120),time=rep(1:120, 100), \n",
    "                   y=0, x=0, e=0, gamma=0, delta=0, eta=0, mu=0, zeta=0, nu=0)"
   ]
  },
  {
   "cell_type": "code",
   "execution_count": 42,
   "metadata": {},
   "outputs": [],
   "source": [
    "# Firm Effect : gamma and mu\n",
    "mydat$gamma = rep(rnorm(0,1,n=100), each=120)\n",
    "mydat$mu = rep(rnorm(0,1,n=100), each=120)\n",
    "\n",
    "# Time Effect : delta and zeta\n",
    "mydat$delta = rep(rnorm(0,1,n=120),100)\n",
    "mydat$zeta = rep(rnorm(0,1,n=120),100)\n",
    "\n",
    "# Idiosyncratic : eta and nu\n",
    "mydat$eta = rnorm(0,1,n=12000)\n",
    "mydat$nu = rnorm(0,1,n=12000)\n",
    "\n",
    "# Summation\n",
    "mydat$e = mydat$gamma+mydat$delta+mydat$eta\n",
    "mydat$x = mydat$mu+mydat$zeta+mydat$nu\n",
    "\n",
    "# True Beta\n",
    "beta = 2\n",
    "mydat$y = beta*mydat$x+mydat$e\n"
   ]
  },
  {
   "cell_type": "code",
   "execution_count": 43,
   "metadata": {
    "scrolled": false
   },
   "outputs": [
    {
     "data": {
      "text/html": [
       "<table>\n",
       "<thead><tr><th scope=col>firm</th><th scope=col>time</th><th scope=col>y</th><th scope=col>x</th><th scope=col>e</th><th scope=col>gamma</th><th scope=col>delta</th><th scope=col>eta</th><th scope=col>mu</th><th scope=col>zeta</th><th scope=col>nu</th></tr></thead>\n",
       "<tbody>\n",
       "\t<tr><td>1          </td><td>1          </td><td> 1.3815607 </td><td> 0.3329437 </td><td> 0.71567334</td><td>-0.8937133 </td><td>-0.4758154 </td><td> 2.08520199</td><td>-1.474299  </td><td> 1.10412610</td><td> 0.70311612</td></tr>\n",
       "\t<tr><td>1          </td><td>2          </td><td>-2.7766405 </td><td>-2.3070654 </td><td> 1.83749029</td><td>-0.8937133 </td><td> 2.2040380 </td><td> 0.52716560</td><td>-1.474299  </td><td>-0.09608803</td><td>-0.73667879</td></tr>\n",
       "\t<tr><td>1          </td><td>3          </td><td>-4.2428991 </td><td>-2.1365789 </td><td> 0.03025873</td><td>-0.8937133 </td><td> 1.3200122 </td><td>-0.39604021</td><td>-1.474299  </td><td> 0.26068842</td><td>-0.92296879</td></tr>\n",
       "\t<tr><td>1          </td><td>4          </td><td>-1.7546231 </td><td>-0.7490638 </td><td>-0.25649562</td><td>-0.8937133 </td><td> 0.5671154 </td><td> 0.07010228</td><td>-1.474299  </td><td> 1.11317089</td><td>-0.38793609</td></tr>\n",
       "\t<tr><td>1          </td><td>5          </td><td> 0.2930051 </td><td>-0.1552199 </td><td> 0.60344493</td><td>-0.8937133 </td><td> 0.8477039 </td><td> 0.64945431</td><td>-1.474299  </td><td> 1.40308638</td><td>-0.08400775</td></tr>\n",
       "\t<tr><td>1          </td><td>6          </td><td>-8.1301963 </td><td>-3.8558375 </td><td>-0.41852127</td><td>-0.8937133 </td><td>-0.1570221 </td><td> 0.63221411</td><td>-1.474299  </td><td>-1.74591131</td><td>-0.63562765</td></tr>\n",
       "</tbody>\n",
       "</table>\n"
      ],
      "text/latex": [
       "\\begin{tabular}{r|lllllllllll}\n",
       " firm & time & y & x & e & gamma & delta & eta & mu & zeta & nu\\\\\n",
       "\\hline\n",
       "\t 1           & 1           &  1.3815607  &  0.3329437  &  0.71567334 & -0.8937133  & -0.4758154  &  2.08520199 & -1.474299   &  1.10412610 &  0.70311612\\\\\n",
       "\t 1           & 2           & -2.7766405  & -2.3070654  &  1.83749029 & -0.8937133  &  2.2040380  &  0.52716560 & -1.474299   & -0.09608803 & -0.73667879\\\\\n",
       "\t 1           & 3           & -4.2428991  & -2.1365789  &  0.03025873 & -0.8937133  &  1.3200122  & -0.39604021 & -1.474299   &  0.26068842 & -0.92296879\\\\\n",
       "\t 1           & 4           & -1.7546231  & -0.7490638  & -0.25649562 & -0.8937133  &  0.5671154  &  0.07010228 & -1.474299   &  1.11317089 & -0.38793609\\\\\n",
       "\t 1           & 5           &  0.2930051  & -0.1552199  &  0.60344493 & -0.8937133  &  0.8477039  &  0.64945431 & -1.474299   &  1.40308638 & -0.08400775\\\\\n",
       "\t 1           & 6           & -8.1301963  & -3.8558375  & -0.41852127 & -0.8937133  & -0.1570221  &  0.63221411 & -1.474299   & -1.74591131 & -0.63562765\\\\\n",
       "\\end{tabular}\n"
      ],
      "text/markdown": [
       "\n",
       "firm | time | y | x | e | gamma | delta | eta | mu | zeta | nu | \n",
       "|---|---|---|---|---|---|\n",
       "| 1           | 1           |  1.3815607  |  0.3329437  |  0.71567334 | -0.8937133  | -0.4758154  |  2.08520199 | -1.474299   |  1.10412610 |  0.70311612 | \n",
       "| 1           | 2           | -2.7766405  | -2.3070654  |  1.83749029 | -0.8937133  |  2.2040380  |  0.52716560 | -1.474299   | -0.09608803 | -0.73667879 | \n",
       "| 1           | 3           | -4.2428991  | -2.1365789  |  0.03025873 | -0.8937133  |  1.3200122  | -0.39604021 | -1.474299   |  0.26068842 | -0.92296879 | \n",
       "| 1           | 4           | -1.7546231  | -0.7490638  | -0.25649562 | -0.8937133  |  0.5671154  |  0.07010228 | -1.474299   |  1.11317089 | -0.38793609 | \n",
       "| 1           | 5           |  0.2930051  | -0.1552199  |  0.60344493 | -0.8937133  |  0.8477039  |  0.64945431 | -1.474299   |  1.40308638 | -0.08400775 | \n",
       "| 1           | 6           | -8.1301963  | -3.8558375  | -0.41852127 | -0.8937133  | -0.1570221  |  0.63221411 | -1.474299   | -1.74591131 | -0.63562765 | \n",
       "\n",
       "\n"
      ],
      "text/plain": [
       "  firm time y          x          e           gamma      delta      eta        \n",
       "1 1    1     1.3815607  0.3329437  0.71567334 -0.8937133 -0.4758154  2.08520199\n",
       "2 1    2    -2.7766405 -2.3070654  1.83749029 -0.8937133  2.2040380  0.52716560\n",
       "3 1    3    -4.2428991 -2.1365789  0.03025873 -0.8937133  1.3200122 -0.39604021\n",
       "4 1    4    -1.7546231 -0.7490638 -0.25649562 -0.8937133  0.5671154  0.07010228\n",
       "5 1    5     0.2930051 -0.1552199  0.60344493 -0.8937133  0.8477039  0.64945431\n",
       "6 1    6    -8.1301963 -3.8558375 -0.41852127 -0.8937133 -0.1570221  0.63221411\n",
       "  mu        zeta        nu         \n",
       "1 -1.474299  1.10412610  0.70311612\n",
       "2 -1.474299 -0.09608803 -0.73667879\n",
       "3 -1.474299  0.26068842 -0.92296879\n",
       "4 -1.474299  1.11317089 -0.38793609\n",
       "5 -1.474299  1.40308638 -0.08400775\n",
       "6 -1.474299 -1.74591131 -0.63562765"
      ]
     },
     "metadata": {},
     "output_type": "display_data"
    },
    {
     "data": {
      "text/html": [
       "<table>\n",
       "<thead><tr><th></th><th scope=col>firm</th><th scope=col>time</th><th scope=col>y</th><th scope=col>x</th><th scope=col>e</th><th scope=col>gamma</th><th scope=col>delta</th><th scope=col>eta</th><th scope=col>mu</th><th scope=col>zeta</th><th scope=col>nu</th></tr></thead>\n",
       "<tbody>\n",
       "\t<tr><th scope=row>11995</th><td>100        </td><td>115        </td><td> 0.3015461 </td><td>-0.6994800 </td><td>1.7005062  </td><td>2.134898   </td><td> 0.2584846 </td><td>-0.6928762 </td><td>-1.709656  </td><td> 1.4979568 </td><td>-0.48778047</td></tr>\n",
       "\t<tr><th scope=row>11996</th><td>100        </td><td>116        </td><td>-1.3635671 </td><td>-3.1648104 </td><td>4.9660536  </td><td>2.134898   </td><td> 2.7181466 </td><td> 0.1130092 </td><td>-1.709656  </td><td>-1.4716816 </td><td> 0.01652758</td></tr>\n",
       "\t<tr><th scope=row>11997</th><td>100        </td><td>117        </td><td>-4.6824022 </td><td>-3.2066662 </td><td>1.7309302  </td><td>2.134898   </td><td>-0.7471466 </td><td> 0.3431790 </td><td>-1.709656  </td><td>-0.7485216 </td><td>-0.74848822</td></tr>\n",
       "\t<tr><th scope=row>11998</th><td>100        </td><td>118        </td><td> 5.8581717 </td><td> 1.1416317 </td><td>3.5749083  </td><td>2.134898   </td><td> 0.9635764 </td><td> 0.4764341 </td><td>-1.709656  </td><td> 1.5032722 </td><td> 1.34801587</td></tr>\n",
       "\t<tr><th scope=row>11999</th><td>100        </td><td>119        </td><td>-6.4835650 </td><td>-4.3020060 </td><td>2.1204470  </td><td>2.134898   </td><td> 1.7996128 </td><td>-1.8140636 </td><td>-1.709656  </td><td>-0.5357431 </td><td>-2.05660658</td></tr>\n",
       "\t<tr><th scope=row>12000</th><td>100        </td><td>120        </td><td> 1.0457676 </td><td> 0.1745256 </td><td>0.6967164  </td><td>2.134898   </td><td>-0.1255213 </td><td>-1.3126601 </td><td>-1.709656  </td><td> 0.3442118 </td><td> 1.53997014</td></tr>\n",
       "</tbody>\n",
       "</table>\n"
      ],
      "text/latex": [
       "\\begin{tabular}{r|lllllllllll}\n",
       "  & firm & time & y & x & e & gamma & delta & eta & mu & zeta & nu\\\\\n",
       "\\hline\n",
       "\t11995 & 100         & 115         &  0.3015461  & -0.6994800  & 1.7005062   & 2.134898    &  0.2584846  & -0.6928762  & -1.709656   &  1.4979568  & -0.48778047\\\\\n",
       "\t11996 & 100         & 116         & -1.3635671  & -3.1648104  & 4.9660536   & 2.134898    &  2.7181466  &  0.1130092  & -1.709656   & -1.4716816  &  0.01652758\\\\\n",
       "\t11997 & 100         & 117         & -4.6824022  & -3.2066662  & 1.7309302   & 2.134898    & -0.7471466  &  0.3431790  & -1.709656   & -0.7485216  & -0.74848822\\\\\n",
       "\t11998 & 100         & 118         &  5.8581717  &  1.1416317  & 3.5749083   & 2.134898    &  0.9635764  &  0.4764341  & -1.709656   &  1.5032722  &  1.34801587\\\\\n",
       "\t11999 & 100         & 119         & -6.4835650  & -4.3020060  & 2.1204470   & 2.134898    &  1.7996128  & -1.8140636  & -1.709656   & -0.5357431  & -2.05660658\\\\\n",
       "\t12000 & 100         & 120         &  1.0457676  &  0.1745256  & 0.6967164   & 2.134898    & -0.1255213  & -1.3126601  & -1.709656   &  0.3442118  &  1.53997014\\\\\n",
       "\\end{tabular}\n"
      ],
      "text/markdown": [
       "\n",
       "| <!--/--> | firm | time | y | x | e | gamma | delta | eta | mu | zeta | nu | \n",
       "|---|---|---|---|---|---|\n",
       "| 11995 | 100         | 115         |  0.3015461  | -0.6994800  | 1.7005062   | 2.134898    |  0.2584846  | -0.6928762  | -1.709656   |  1.4979568  | -0.48778047 | \n",
       "| 11996 | 100         | 116         | -1.3635671  | -3.1648104  | 4.9660536   | 2.134898    |  2.7181466  |  0.1130092  | -1.709656   | -1.4716816  |  0.01652758 | \n",
       "| 11997 | 100         | 117         | -4.6824022  | -3.2066662  | 1.7309302   | 2.134898    | -0.7471466  |  0.3431790  | -1.709656   | -0.7485216  | -0.74848822 | \n",
       "| 11998 | 100         | 118         |  5.8581717  |  1.1416317  | 3.5749083   | 2.134898    |  0.9635764  |  0.4764341  | -1.709656   |  1.5032722  |  1.34801587 | \n",
       "| 11999 | 100         | 119         | -6.4835650  | -4.3020060  | 2.1204470   | 2.134898    |  1.7996128  | -1.8140636  | -1.709656   | -0.5357431  | -2.05660658 | \n",
       "| 12000 | 100         | 120         |  1.0457676  |  0.1745256  | 0.6967164   | 2.134898    | -0.1255213  | -1.3126601  | -1.709656   |  0.3442118  |  1.53997014 | \n",
       "\n",
       "\n"
      ],
      "text/plain": [
       "      firm time y          x          e         gamma    delta      eta       \n",
       "11995 100  115   0.3015461 -0.6994800 1.7005062 2.134898  0.2584846 -0.6928762\n",
       "11996 100  116  -1.3635671 -3.1648104 4.9660536 2.134898  2.7181466  0.1130092\n",
       "11997 100  117  -4.6824022 -3.2066662 1.7309302 2.134898 -0.7471466  0.3431790\n",
       "11998 100  118   5.8581717  1.1416317 3.5749083 2.134898  0.9635764  0.4764341\n",
       "11999 100  119  -6.4835650 -4.3020060 2.1204470 2.134898  1.7996128 -1.8140636\n",
       "12000 100  120   1.0457676  0.1745256 0.6967164 2.134898 -0.1255213 -1.3126601\n",
       "      mu        zeta       nu         \n",
       "11995 -1.709656  1.4979568 -0.48778047\n",
       "11996 -1.709656 -1.4716816  0.01652758\n",
       "11997 -1.709656 -0.7485216 -0.74848822\n",
       "11998 -1.709656  1.5032722  1.34801587\n",
       "11999 -1.709656 -0.5357431 -2.05660658\n",
       "12000 -1.709656  0.3442118  1.53997014"
      ]
     },
     "metadata": {},
     "output_type": "display_data"
    },
    {
     "name": "stdout",
     "output_type": "stream",
     "text": [
      "'data.frame':\t12000 obs. of  11 variables:\n",
      " $ firm : int  1 1 1 1 1 1 1 1 1 1 ...\n",
      " $ time : int  1 2 3 4 5 6 7 8 9 10 ...\n",
      " $ y    : num  1.382 -2.777 -4.243 -1.755 0.293 ...\n",
      " $ x    : num  0.333 -2.307 -2.137 -0.749 -0.155 ...\n",
      " $ e    : num  0.7157 1.8375 0.0303 -0.2565 0.6034 ...\n",
      " $ gamma: num  -0.894 -0.894 -0.894 -0.894 -0.894 ...\n",
      " $ delta: num  -0.476 2.204 1.32 0.567 0.848 ...\n",
      " $ eta  : num  2.0852 0.5272 -0.396 0.0701 0.6495 ...\n",
      " $ mu   : num  -1.47 -1.47 -1.47 -1.47 -1.47 ...\n",
      " $ zeta : num  1.1041 -0.0961 0.2607 1.1132 1.4031 ...\n",
      " $ nu   : num  0.703 -0.737 -0.923 -0.388 -0.084 ...\n"
     ]
    }
   ],
   "source": [
    "head(mydat); tail(mydat); str(mydat)"
   ]
  },
  {
   "cell_type": "code",
   "execution_count": 53,
   "metadata": {
    "scrolled": true
   },
   "outputs": [
    {
     "data": {
      "text/plain": [
       "\n",
       "Call:\n",
       "lm(formula = y ~ x, data = mydat)\n",
       "\n",
       "Residuals:\n",
       "    Min      1Q  Median      3Q     Max \n",
       "-6.0602 -1.1312 -0.0142  1.1217  6.0397 \n",
       "\n",
       "Coefficients:\n",
       "            Estimate Std. Error t value Pr(>|t|)    \n",
       "(Intercept) 0.293241   0.015150   19.36   <2e-16 ***\n",
       "x           1.947419   0.008767  222.13   <2e-16 ***\n",
       "---\n",
       "Signif. codes:  0 '***' 0.001 '**' 0.01 '*' 0.05 '.' 0.1 ' ' 1\n",
       "\n",
       "Residual standard error: 1.659 on 11998 degrees of freedom\n",
       "Multiple R-squared:  0.8044,\tAdjusted R-squared:  0.8044 \n",
       "F-statistic: 4.934e+04 on 1 and 11998 DF,  p-value: < 2.2e-16\n"
      ]
     },
     "metadata": {},
     "output_type": "display_data"
    }
   ],
   "source": [
    "model = summary(lm(y~x, data=mydat))"
   ]
  },
  {
   "cell_type": "code",
   "execution_count": 97,
   "metadata": {},
   "outputs": [
    {
     "data": {
      "text/html": [
       "-5.9977382869851"
      ],
      "text/latex": [
       "-5.9977382869851"
      ],
      "text/markdown": [
       "-5.9977382869851"
      ],
      "text/plain": [
       "[1] -5.997738"
      ]
     },
     "metadata": {},
     "output_type": "display_data"
    }
   ],
   "source": [
    "est.b = model$coefficients[2,c(\"Estimate\")]\n",
    "est.se = model$coefficients[2,c(\"Std. Error\")]\n",
    "(ols.t = (est.b-beta)/est.se)"
   ]
  },
  {
   "cell_type": "code",
   "execution_count": 98,
   "metadata": {},
   "outputs": [
    {
     "data": {
      "text/html": [
       "-1.33263005855211"
      ],
      "text/latex": [
       "-1.33263005855211"
      ],
      "text/markdown": [
       "-1.33263005855211"
      ],
      "text/plain": [
       "[1] -1.33263"
      ]
     },
     "metadata": {},
     "output_type": "display_data"
    }
   ],
   "source": [
    "vcovDC = function(x, ...){\n",
    "    vcovHC(x, cluster=\"group\", ...) + \n",
    "      vcovHC(x, method=c(\"arellano\"), type=c(\"sss\"),cluster = c(\"time\"), ...) - \n",
    "      vcovHC(x, method=\"white1\", ...)\n",
    "  }\n",
    "\n",
    "  cluster.double = coeftest(p.ols, vcov = function(x) vcovDC(x)) \n",
    "\n",
    "  est.b = cluster.double[2,c(\"Estimate\")]\n",
    "  est.se = cluster.double[2,c(\"Std. Error\")]                       \n",
    "                            \n",
    "  (dc.t = (est.b-beta)/est.se)                        \n",
    "               "
   ]
  },
  {
   "cell_type": "markdown",
   "metadata": {},
   "source": [
    "OLS t value is -6 and Double Clustering t value is -1.33"
   ]
  },
  {
   "cell_type": "markdown",
   "metadata": {},
   "source": [
    "## Let's Functionalize."
   ]
  },
  {
   "cell_type": "code",
   "execution_count": 91,
   "metadata": {},
   "outputs": [],
   "source": [
    "tval_generate = function(firmno=100, timept=120, rep=100, truebeta = 2){\n",
    "    ols.t = white.t = newey.t = fmb.t = cluster.firm.t = cluster.time.t = dc.t = NULL\n",
    "    \n",
    "    for (iter in 1:rep){   \n",
    "\n",
    "        # Data Generation\n",
    "        mydat = data.frame(firm=rep(1:firmno, each=timept),time=rep(1:timept, firmno), \n",
    "                           y=0, x=0, e=0, gamma=0, delta=0, eta=0, mu=0, zeta=0, nu=0)\n",
    "\n",
    "        # Firm Effect : gamma and mu\n",
    "        mydat$gamma = rep(rnorm(0,1,n=firmno), each=timept)\n",
    "        mydat$mu = rep(rnorm(0,1,n=firmno), each=timept)\n",
    "\n",
    "        # Time Effect : delta and zeta\n",
    "        mydat$delta = rep(rnorm(0,1,n=timept),firmno)\n",
    "        mydat$zeta = rep(rnorm(0,1,n=timept),firmno)\n",
    "\n",
    "        # Idiosyncratic : eta and nu\n",
    "        mydat$eta = rnorm(0,1,n=firmno*timept)\n",
    "        mydat$nu = rnorm(0,1,n=firmno*timept)\n",
    "\n",
    "        # Summation\n",
    "        mydat$e = mydat$gamma+mydat$delta+mydat$eta\n",
    "        mydat$x = mydat$mu+mydat$zeta+mydat$nu\n",
    "\n",
    "        # True Beta\n",
    "        beta = truebeta\n",
    "        mydat$y = beta*mydat$x+mydat$e\n",
    "\n",
    "        # OLS\n",
    "        ols = lm(y~x, data=mydat)\n",
    "        est.b = summary(ols)$coefficients[2,c(\"Estimate\")]\n",
    "        est.se = summary(ols)$coefficients[2,c(\"Std. Error\")]\n",
    "        ols.t = c(ols.t, (est.b-beta)/est.se)\n",
    "        \n",
    "        # White\n",
    "        white = coeftest(ols, vcov = function(x) vcovHC(x, method=\"white1\", type=\"HC1\"))\n",
    "        est.b = white[2,c(\"Estimate\")]\n",
    "        est.se = white[2,c(\"Std. Error\")]                       \n",
    "        white.t = c(white.t, (est.b-beta)/est.se)                  \n",
    "\n",
    "        # Newey-West\n",
    "        newey = coeftest(ols, vcov = NeweyWest(ols))\n",
    "        est.b = newey[2,c(\"Estimate\")]\n",
    "        est.se = newey[2,c(\"Std. Error\")]                       \n",
    "        newey.t = c(newey.t, (est.b-beta)/est.se)\n",
    "\n",
    "        # Fama - Macbeth\n",
    "        fmb = pmg(y~x, mydat, index=c(\"time\",\"firm\"))\n",
    "        FMB = coeftest(fmb)\n",
    "        est.b = FMB[2,c(\"Estimate\")]\n",
    "        est.se = FMB[2,c(\"Std. Error\")]\n",
    "        fmb.t = c(fmb.t, (est.b-beta)/est.se)\n",
    "\n",
    "        p.ols = plm(y~x, model=\"pooling\", index=c(\"firm\", \"time\"), data=mydat)\n",
    "        \n",
    "        # Cluster by Firm\n",
    "        cluster.firm = coeftest(p.ols, vcov = function(x) vcovHC(x, cluster=\"group\", type=\"HC1\"))                 \n",
    "        est.b = cluster.firm[2,c(\"Estimate\")]\n",
    "        est.se = cluster.firm[2,c(\"Std. Error\")]\n",
    "        cluster.firm.t = c(cluster.firm.t, (est.b-beta)/est.se)\n",
    "                                \n",
    "        # Cluster by Time\n",
    "        cluster.time = coeftest(p.ols, vcov = function(x) vcovHC(x, method=c(\"arellano\"), type=c(\"sss\"),cluster = c(\"time\")))            \n",
    "        est.b = cluster.time[2,c(\"Estimate\")]\n",
    "        est.se = cluster.time[2,c(\"Std. Error\")]\n",
    "        cluster.time.t = c(cluster.time.t, (est.b-beta)/est.se)\n",
    "                                \n",
    "        # Double Cluster\n",
    "        cluster.double = coeftest(p.ols, vcov = function(x) vcovDC(x)) \n",
    "        est.b = cluster.double[2,c(\"Estimate\")]\n",
    "        est.se = cluster.double[2,c(\"Std. Error\")]                       \n",
    "        dc.t = c(dc.t, (est.b-beta)/est.se)\n",
    "        }    \n",
    "                                  \n",
    "    # Return\n",
    "    res = data.frame(ols = ols.t, white = white.t, nw = newey.t, fmb = fmb.t, \n",
    "                     firmc = cluster.firm.t, timec = cluster.time.t, dc = dc.t)\n",
    "    return(res)\n",
    "}\n",
    "\n"
   ]
  },
  {
   "cell_type": "markdown",
   "metadata": {},
   "source": [
    "### Simulation 1000 times\n",
    "------\n",
    "I simulate the data of 100 firms and 120 time points with the method of OLS, White, Newey-West, Fama-Macbeth, Firm-Cluster, Time-Cluster, and Double-Cluster 1000 times. So, it will take some time. If you want to see quick results, adjust firmno, timept, and rep variable in the function."
   ]
  },
  {
   "cell_type": "code",
   "execution_count": 92,
   "metadata": {},
   "outputs": [
    {
     "data": {
      "text/html": [
       "<table>\n",
       "<thead><tr><th scope=col>ols</th><th scope=col>white</th><th scope=col>nw</th><th scope=col>fmb</th><th scope=col>firmc</th><th scope=col>timec</th><th scope=col>dc</th></tr></thead>\n",
       "<tbody>\n",
       "\t<tr><td> 9.1474501</td><td> 8.916399 </td><td> 3.0959873</td><td>12.6189039</td><td> 2.0043678</td><td> 2.5132427</td><td> 1.5918960</td></tr>\n",
       "\t<tr><td>-0.4980771</td><td>-0.512263 </td><td>-0.2095261</td><td>-2.8372351</td><td>-0.1316373</td><td>-0.1594814</td><td>-0.1035805</td></tr>\n",
       "\t<tr><td> 1.4769917</td><td> 1.484961 </td><td> 0.7826039</td><td> 0.8255710</td><td> 0.4926386</td><td> 0.3508894</td><td> 0.2912561</td></tr>\n",
       "\t<tr><td>-5.7281928</td><td>-5.776097 </td><td>-2.7925559</td><td>-7.1620859</td><td>-1.6826247</td><td>-1.5782366</td><td>-1.1747245</td></tr>\n",
       "\t<tr><td> 1.0086357</td><td> 1.014273 </td><td> 0.3795174</td><td>-0.3133026</td><td> 0.2446348</td><td> 0.3191522</td><td> 0.1978263</td></tr>\n",
       "\t<tr><td>-5.0213287</td><td>-5.126059 </td><td>-2.3032951</td><td>-7.6666184</td><td>-1.4189426</td><td>-1.7559756</td><td>-1.1302130</td></tr>\n",
       "</tbody>\n",
       "</table>\n"
      ],
      "text/latex": [
       "\\begin{tabular}{r|lllllll}\n",
       " ols & white & nw & fmb & firmc & timec & dc\\\\\n",
       "\\hline\n",
       "\t  9.1474501 &  8.916399  &  3.0959873 & 12.6189039 &  2.0043678 &  2.5132427 &  1.5918960\\\\\n",
       "\t -0.4980771 & -0.512263  & -0.2095261 & -2.8372351 & -0.1316373 & -0.1594814 & -0.1035805\\\\\n",
       "\t  1.4769917 &  1.484961  &  0.7826039 &  0.8255710 &  0.4926386 &  0.3508894 &  0.2912561\\\\\n",
       "\t -5.7281928 & -5.776097  & -2.7925559 & -7.1620859 & -1.6826247 & -1.5782366 & -1.1747245\\\\\n",
       "\t  1.0086357 &  1.014273  &  0.3795174 & -0.3133026 &  0.2446348 &  0.3191522 &  0.1978263\\\\\n",
       "\t -5.0213287 & -5.126059  & -2.3032951 & -7.6666184 & -1.4189426 & -1.7559756 & -1.1302130\\\\\n",
       "\\end{tabular}\n"
      ],
      "text/markdown": [
       "\n",
       "ols | white | nw | fmb | firmc | timec | dc | \n",
       "|---|---|---|---|---|---|\n",
       "|  9.1474501 |  8.916399  |  3.0959873 | 12.6189039 |  2.0043678 |  2.5132427 |  1.5918960 | \n",
       "| -0.4980771 | -0.512263  | -0.2095261 | -2.8372351 | -0.1316373 | -0.1594814 | -0.1035805 | \n",
       "|  1.4769917 |  1.484961  |  0.7826039 |  0.8255710 |  0.4926386 |  0.3508894 |  0.2912561 | \n",
       "| -5.7281928 | -5.776097  | -2.7925559 | -7.1620859 | -1.6826247 | -1.5782366 | -1.1747245 | \n",
       "|  1.0086357 |  1.014273  |  0.3795174 | -0.3133026 |  0.2446348 |  0.3191522 |  0.1978263 | \n",
       "| -5.0213287 | -5.126059  | -2.3032951 | -7.6666184 | -1.4189426 | -1.7559756 | -1.1302130 | \n",
       "\n",
       "\n"
      ],
      "text/plain": [
       "  ols        white     nw         fmb        firmc      timec      dc        \n",
       "1  9.1474501  8.916399  3.0959873 12.6189039  2.0043678  2.5132427  1.5918960\n",
       "2 -0.4980771 -0.512263 -0.2095261 -2.8372351 -0.1316373 -0.1594814 -0.1035805\n",
       "3  1.4769917  1.484961  0.7826039  0.8255710  0.4926386  0.3508894  0.2912561\n",
       "4 -5.7281928 -5.776097 -2.7925559 -7.1620859 -1.6826247 -1.5782366 -1.1747245\n",
       "5  1.0086357  1.014273  0.3795174 -0.3133026  0.2446348  0.3191522  0.1978263\n",
       "6 -5.0213287 -5.126059 -2.3032951 -7.6666184 -1.4189426 -1.7559756 -1.1302130"
      ]
     },
     "metadata": {},
     "output_type": "display_data"
    },
    {
     "data": {
      "text/html": [
       "<table>\n",
       "<thead><tr><th></th><th scope=col>ols</th><th scope=col>white</th><th scope=col>nw</th><th scope=col>fmb</th><th scope=col>firmc</th><th scope=col>timec</th><th scope=col>dc</th></tr></thead>\n",
       "<tbody>\n",
       "\t<tr><th scope=row>995</th><td> 6.146726 </td><td> 6.193132 </td><td> 3.0011693</td><td> 7.352169 </td><td> 1.8296564</td><td> 1.9215903</td><td> 1.3565406</td></tr>\n",
       "\t<tr><th scope=row>996</th><td> 4.552936 </td><td> 4.588952 </td><td> 1.9161094</td><td>11.567818 </td><td> 1.2251179</td><td> 1.4931046</td><td> 0.9679903</td></tr>\n",
       "\t<tr><th scope=row>997</th><td>-6.544112 </td><td>-6.594092 </td><td>-2.8747517</td><td>-6.944292 </td><td>-1.8000128</td><td>-2.3899722</td><td>-1.4733581</td></tr>\n",
       "\t<tr><th scope=row>998</th><td>-4.433875 </td><td>-4.431198 </td><td>-1.6402493</td><td>-5.969178 </td><td>-1.0687693</td><td>-1.3304935</td><td>-0.8484058</td></tr>\n",
       "\t<tr><th scope=row>999</th><td>-4.273249 </td><td>-4.353246 </td><td>-1.7642116</td><td>-2.778387 </td><td>-1.1127411</td><td>-1.4820476</td><td>-0.9090866</td></tr>\n",
       "\t<tr><th scope=row>1000</th><td>-1.117527 </td><td>-1.157403 </td><td>-0.7022994</td><td>-2.422832 </td><td>-0.4627207</td><td>-0.3167893</td><td>-0.2683376</td></tr>\n",
       "</tbody>\n",
       "</table>\n"
      ],
      "text/latex": [
       "\\begin{tabular}{r|lllllll}\n",
       "  & ols & white & nw & fmb & firmc & timec & dc\\\\\n",
       "\\hline\n",
       "\t995 &  6.146726  &  6.193132  &  3.0011693 &  7.352169  &  1.8296564 &  1.9215903 &  1.3565406\\\\\n",
       "\t996 &  4.552936  &  4.588952  &  1.9161094 & 11.567818  &  1.2251179 &  1.4931046 &  0.9679903\\\\\n",
       "\t997 & -6.544112  & -6.594092  & -2.8747517 & -6.944292  & -1.8000128 & -2.3899722 & -1.4733581\\\\\n",
       "\t998 & -4.433875  & -4.431198  & -1.6402493 & -5.969178  & -1.0687693 & -1.3304935 & -0.8484058\\\\\n",
       "\t999 & -4.273249  & -4.353246  & -1.7642116 & -2.778387  & -1.1127411 & -1.4820476 & -0.9090866\\\\\n",
       "\t1000 & -1.117527  & -1.157403  & -0.7022994 & -2.422832  & -0.4627207 & -0.3167893 & -0.2683376\\\\\n",
       "\\end{tabular}\n"
      ],
      "text/markdown": [
       "\n",
       "| <!--/--> | ols | white | nw | fmb | firmc | timec | dc | \n",
       "|---|---|---|---|---|---|\n",
       "| 995 |  6.146726  |  6.193132  |  3.0011693 |  7.352169  |  1.8296564 |  1.9215903 |  1.3565406 | \n",
       "| 996 |  4.552936  |  4.588952  |  1.9161094 | 11.567818  |  1.2251179 |  1.4931046 |  0.9679903 | \n",
       "| 997 | -6.544112  | -6.594092  | -2.8747517 | -6.944292  | -1.8000128 | -2.3899722 | -1.4733581 | \n",
       "| 998 | -4.433875  | -4.431198  | -1.6402493 | -5.969178  | -1.0687693 | -1.3304935 | -0.8484058 | \n",
       "| 999 | -4.273249  | -4.353246  | -1.7642116 | -2.778387  | -1.1127411 | -1.4820476 | -0.9090866 | \n",
       "| 1000 | -1.117527  | -1.157403  | -0.7022994 | -2.422832  | -0.4627207 | -0.3167893 | -0.2683376 | \n",
       "\n",
       "\n"
      ],
      "text/plain": [
       "     ols       white     nw         fmb       firmc      timec      dc        \n",
       "995   6.146726  6.193132  3.0011693  7.352169  1.8296564  1.9215903  1.3565406\n",
       "996   4.552936  4.588952  1.9161094 11.567818  1.2251179  1.4931046  0.9679903\n",
       "997  -6.544112 -6.594092 -2.8747517 -6.944292 -1.8000128 -2.3899722 -1.4733581\n",
       "998  -4.433875 -4.431198 -1.6402493 -5.969178 -1.0687693 -1.3304935 -0.8484058\n",
       "999  -4.273249 -4.353246 -1.7642116 -2.778387 -1.1127411 -1.4820476 -0.9090866\n",
       "1000 -1.117527 -1.157403 -0.7022994 -2.422832 -0.4627207 -0.3167893 -0.2683376"
      ]
     },
     "metadata": {},
     "output_type": "display_data"
    }
   ],
   "source": [
    "t.val = tval_generate(firmno=100, timept=120, rep=1000, truebeta = 2)\n",
    "head(t.val);tail(t.val)"
   ]
  },
  {
   "cell_type": "markdown",
   "metadata": {},
   "source": [
    "### Then I calculate the rejection rate.\n",
    "------\n",
    "5% rejection rate for OLS, White, Fama-Macbeth is over 67% (670 times / 1000 times).\n",
    "\n",
    "1% rejection rate for OLS, white, Fama-Macbeth is over 60% (600 times / 1000 times).\n",
    "\n",
    "The rejection rate of **double clustering** seems to be appropriate. 5% (50 times / 1000 times) and 1.2% (12 times / 1000 times) each.\n"
   ]
  },
  {
   "cell_type": "code",
   "execution_count": 96,
   "metadata": {
    "scrolled": true
   },
   "outputs": [
    {
     "data": {
      "text/html": [
       "<dl class=dl-horizontal>\n",
       "\t<dt>ols</dt>\n",
       "\t\t<dd>67.7</dd>\n",
       "\t<dt>white</dt>\n",
       "\t\t<dd>67.7</dd>\n",
       "\t<dt>nw</dt>\n",
       "\t\t<dd>34.2</dd>\n",
       "\t<dt>fmb</dt>\n",
       "\t\t<dd>75.1</dd>\n",
       "\t<dt>firmc</dt>\n",
       "\t\t<dd>14.2</dd>\n",
       "\t<dt>timec</dt>\n",
       "\t\t<dd>17.1</dd>\n",
       "\t<dt>dc</dt>\n",
       "\t\t<dd>5</dd>\n",
       "</dl>\n"
      ],
      "text/latex": [
       "\\begin{description*}\n",
       "\\item[ols] 67.7\n",
       "\\item[white] 67.7\n",
       "\\item[nw] 34.2\n",
       "\\item[fmb] 75.1\n",
       "\\item[firmc] 14.2\n",
       "\\item[timec] 17.1\n",
       "\\item[dc] 5\n",
       "\\end{description*}\n"
      ],
      "text/markdown": [
       "ols\n",
       ":   67.7white\n",
       ":   67.7nw\n",
       ":   34.2fmb\n",
       ":   75.1firmc\n",
       ":   14.2timec\n",
       ":   17.1dc\n",
       ":   5\n",
       "\n"
      ],
      "text/plain": [
       "  ols white    nw   fmb firmc timec    dc \n",
       " 67.7  67.7  34.2  75.1  14.2  17.1   5.0 "
      ]
     },
     "metadata": {},
     "output_type": "display_data"
    },
    {
     "data": {
      "text/html": [
       "<dl class=dl-horizontal>\n",
       "\t<dt>ols</dt>\n",
       "\t\t<dd>60.1</dd>\n",
       "\t<dt>white</dt>\n",
       "\t\t<dd>60.4</dd>\n",
       "\t<dt>nw</dt>\n",
       "\t\t<dd>21.8</dd>\n",
       "\t<dt>fmb</dt>\n",
       "\t\t<dd>68.3</dd>\n",
       "\t<dt>firmc</dt>\n",
       "\t\t<dd>6</dd>\n",
       "\t<dt>timec</dt>\n",
       "\t\t<dd>7.6</dd>\n",
       "\t<dt>dc</dt>\n",
       "\t\t<dd>1.2</dd>\n",
       "</dl>\n"
      ],
      "text/latex": [
       "\\begin{description*}\n",
       "\\item[ols] 60.1\n",
       "\\item[white] 60.4\n",
       "\\item[nw] 21.8\n",
       "\\item[fmb] 68.3\n",
       "\\item[firmc] 6\n",
       "\\item[timec] 7.6\n",
       "\\item[dc] 1.2\n",
       "\\end{description*}\n"
      ],
      "text/markdown": [
       "ols\n",
       ":   60.1white\n",
       ":   60.4nw\n",
       ":   21.8fmb\n",
       ":   68.3firmc\n",
       ":   6timec\n",
       ":   7.6dc\n",
       ":   1.2\n",
       "\n"
      ],
      "text/plain": [
       "  ols white    nw   fmb firmc timec    dc \n",
       " 60.1  60.4  21.8  68.3   6.0   7.6   1.2 "
      ]
     },
     "metadata": {},
     "output_type": "display_data"
    }
   ],
   "source": [
    "(rejection.5percent = sapply(t.val, function(x) length(which(abs(x)>1.96))/10))\n",
    "(rejection.1percent = sapply(t.val, function(x) length(which(abs(x)>2.52))/10))                           "
   ]
  },
  {
   "cell_type": "markdown",
   "metadata": {},
   "source": [
    "### Results\n",
    "--------\n",
    "**I find the rejection rate calculated from all the other methods except Double Clustering absurd.** It implies that we SHOULD USE DOUBLE CLUSTERING when both time-series correlations and cross-sectional correlations are expected."
   ]
  },
  {
   "cell_type": "markdown",
   "metadata": {},
   "source": [
    "References\n",
    "-----------\n",
    "Petersen (2008, RFS)\n",
    "\n",
    "Clustering options are exactly same as the STATA. (option specification)"
   ]
  }
 ],
 "metadata": {
  "kernelspec": {
   "display_name": "R",
   "language": "R",
   "name": "ir"
  },
  "language_info": {
   "codemirror_mode": "r",
   "file_extension": ".r",
   "mimetype": "text/x-r-source",
   "name": "R",
   "pygments_lexer": "r",
   "version": "3.4.3"
  }
 },
 "nbformat": 4,
 "nbformat_minor": 2
}
