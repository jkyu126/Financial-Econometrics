{
 "cells": [
  {
   "cell_type": "markdown",
   "metadata": {},
   "source": [
    "# Maximum Likelihood Estimator\n",
    "------\n",
    "#### **Written by Jinkyu Kim (Dept. of Finance, Business School, Hanyang Univ.) Contact: jkyu126@gmail.com** "
   ]
  },
  {
   "cell_type": "markdown",
   "metadata": {},
   "source": [
    "## Objective\n",
    "\n",
    "- Explain the concepts of MLE\n",
    "\n",
    "- Using general-purpose optimization function in R, I perform MLE estimation . \n",
    "\n",
    "- Repeat the former task with the built-in MLE function in R."
   ]
  },
  {
   "cell_type": "markdown",
   "metadata": {},
   "source": [
    "## MLE Concepts \n",
    "----------\n",
    "\n",
    "### Preliminary\n",
    "\n",
    "- Consider basic economic model of $y = \\alpha+\\beta x + \\epsilon_i$\n",
    "- Suppose the population disturbance $\\epsilon_i$ follows normal distribution. \n",
    "- Then sample analog $e_i$ also follow normal distribution $N(0, {\\sigma_e}^2)$. \n",
    "- Based on given economic model $y_i = a + bx_i + e_i$ , I calculate $e_i$ from the data. \n",
    "- The probability of each observed data $e_i$ is caculated applying $\\mu = 0$, $\\sigma$ = $\\sigma_e$ to probability distribution function.\n",
    "\n",
    "$$  \n",
    "  f(e_i) = \\frac{1}{\\sqrt{2\\pi{\\sigma_e}^2}} \n",
    "  exp\\left(-\\frac{e_i ^2}{2{\\sigma_e}^2}\\right)\n",
    "$$\n",
    "\n",
    "### Likelihood Function\n",
    "\n",
    "- Then likelihood function $L$ is defined as the probability of our observed data $e_1, e_2, \\cdots, e_n$ are jointly generated from specified probability distribution, i.e., specified a and b. \n",
    "\n",
    "- Assuming the independence of the observations, joint probability can be calculated not as conditional probability, but as the product of each independent probability. Then we get final equation as follows.\n",
    "$$\n",
    "\\begin{align*}\n",
    "  L(\\theta | e_1,e_2,\\cdots,e_n) \n",
    "  &= f(e_1,e_2,\\cdots,e_n | \\theta) \\\\\n",
    "  &= f(e_1 | \\theta) f(e_2 | \\theta) \\cdots f(e_n | \\theta) \\\\\n",
    "  &= \\prod_{i=1}^{n} f(e_i | \\theta)\n",
    "\\end{align*}\n",
    "$$\n",
    "\n",
    "### Wrap-Up\n",
    "\n",
    "- Taking logs of the likelihood function makes calculation a lot easier because summation is more straightforward not only for me but also for my computer...\n",
    "$$\n",
    "\\begin{align*}\n",
    "  logL=\\sum_{i=1}^n log f(e_i | \\theta) \\\\\n",
    "\\end{align*}\n",
    "$$\n",
    "\n",
    "- In R, I use **dnorm** function to assign a probability of normal distribution. \n",
    "- R codes are as follows. Basically, general optimization function finds minimization value, so I defined target function of the optim as minus log likelihood (i.e., $-logL$). Then the final results are calculated as $a=0.0295, b=1.0345$.\n",
    "\n"
   ]
  },
  {
   "cell_type": "code",
   "execution_count": 3,
   "metadata": {},
   "outputs": [],
   "source": [
    "# Reading Data\n",
    "mydat<-read.table(\n",
    "  \"http://www.kellogg.northwestern.edu/faculty/petersen/htm/papers/se/test_data.txt\",\n",
    "   col.names=c(\"firm\", \"year\",\"x\", \"y\"))"
   ]
  },
  {
   "cell_type": "code",
   "execution_count": 13,
   "metadata": {
    "scrolled": false
   },
   "outputs": [
    {
     "name": "stderr",
     "output_type": "stream",
     "text": [
      "ERROR while rich displaying an object: Error in vapply(seq_along(mapped), function(i) {: 길이가 반드시 1이어야 하지만,\n",
      "FUN(X[[5]])의 결과는 길이 0 입니다\n",
      "\n",
      "Traceback:\n",
      "1. FUN(X[[i]], ...)\n",
      "2. tryCatch(withCallingHandlers({\n",
      " .     rpr <- mime2repr[[mime]](obj)\n",
      " .     if (is.null(rpr)) \n",
      " .         return(NULL)\n",
      " .     prepare_content(is.raw(rpr), rpr)\n",
      " . }, error = error_handler), error = outer_handler)\n",
      "3. tryCatchList(expr, classes, parentenv, handlers)\n",
      "4. tryCatchOne(expr, names, parentenv, handlers[[1L]])\n",
      "5. doTryCatch(return(expr), name, parentenv, handler)\n",
      "6. withCallingHandlers({\n",
      " .     rpr <- mime2repr[[mime]](obj)\n",
      " .     if (is.null(rpr)) \n",
      " .         return(NULL)\n",
      " .     prepare_content(is.raw(rpr), rpr)\n",
      " . }, error = error_handler)\n",
      "7. mime2repr[[mime]](obj)\n",
      "8. repr_html.list(obj)\n",
      "9. repr_list_generic(obj, \"html\", \"\\t<li>%s</li>\\n\", \"\\t<dt>$%s</dt>\\n\\t\\t<dd>%s</dd>\\n\", \n",
      " .     \"<strong>$%s</strong> = %s\", \"<ol>\\n%s</ol>\\n\", \"<dl>\\n%s</dl>\\n\", \n",
      " .     numeric_item = \"\\t<dt>[[%s]]</dt>\\n\\t\\t<dd>%s</dd>\\n\", escape_fun = html_escape)\n",
      "10. vapply(seq_along(mapped), function(i) {\n",
      "  .     nm <- nms[[i]]\n",
      "  .     if (is.na(nm) || nchar(nm) == 0) {\n",
      "  .         sprintf(numeric_item, i, mapped[[i]])\n",
      "  .     }\n",
      "  .     else {\n",
      "  .         sprintf(named_item, nms[[i]], mapped[[i]])\n",
      "  .     }\n",
      "  . }, character(1))\n",
      "ERROR while rich displaying an object: Error in vapply(seq_along(mapped), function(i) {: 길이가 반드시 1이어야 하지만,\n",
      "FUN(X[[5]])의 결과는 길이 0 입니다\n",
      "\n",
      "Traceback:\n",
      "1. FUN(X[[i]], ...)\n",
      "2. tryCatch(withCallingHandlers({\n",
      " .     rpr <- mime2repr[[mime]](obj)\n",
      " .     if (is.null(rpr)) \n",
      " .         return(NULL)\n",
      " .     prepare_content(is.raw(rpr), rpr)\n",
      " . }, error = error_handler), error = outer_handler)\n",
      "3. tryCatchList(expr, classes, parentenv, handlers)\n",
      "4. tryCatchOne(expr, names, parentenv, handlers[[1L]])\n",
      "5. doTryCatch(return(expr), name, parentenv, handler)\n",
      "6. withCallingHandlers({\n",
      " .     rpr <- mime2repr[[mime]](obj)\n",
      " .     if (is.null(rpr)) \n",
      " .         return(NULL)\n",
      " .     prepare_content(is.raw(rpr), rpr)\n",
      " . }, error = error_handler)\n",
      "7. mime2repr[[mime]](obj)\n",
      "8. repr_markdown.list(obj)\n",
      "9. repr_list_generic(obj, \"markdown\", \"%s. %s\\n\", \"$%s\\n:   %s\\n\", \n",
      " .     \"**$%s** = %s\", \"%s\\n\\n\", numeric_item = \"[[%s]]\\n:   %s\\n\", \n",
      " .     item_uses_numbers = TRUE, escape_fun = html_escape)\n",
      "10. vapply(seq_along(mapped), function(i) {\n",
      "  .     nm <- nms[[i]]\n",
      "  .     if (is.na(nm) || nchar(nm) == 0) {\n",
      "  .         sprintf(numeric_item, i, mapped[[i]])\n",
      "  .     }\n",
      "  .     else {\n",
      "  .         sprintf(named_item, nms[[i]], mapped[[i]])\n",
      "  .     }\n",
      "  . }, character(1))\n",
      "ERROR while rich displaying an object: Error in vapply(seq_along(mapped), function(i) {: 길이가 반드시 1이어야 하지만,\n",
      "FUN(X[[5]])의 결과는 길이 0 입니다\n",
      "\n",
      "Traceback:\n",
      "1. FUN(X[[i]], ...)\n",
      "2. tryCatch(withCallingHandlers({\n",
      " .     rpr <- mime2repr[[mime]](obj)\n",
      " .     if (is.null(rpr)) \n",
      " .         return(NULL)\n",
      " .     prepare_content(is.raw(rpr), rpr)\n",
      " . }, error = error_handler), error = outer_handler)\n",
      "3. tryCatchList(expr, classes, parentenv, handlers)\n",
      "4. tryCatchOne(expr, names, parentenv, handlers[[1L]])\n",
      "5. doTryCatch(return(expr), name, parentenv, handler)\n",
      "6. withCallingHandlers({\n",
      " .     rpr <- mime2repr[[mime]](obj)\n",
      " .     if (is.null(rpr)) \n",
      " .         return(NULL)\n",
      " .     prepare_content(is.raw(rpr), rpr)\n",
      " . }, error = error_handler)\n",
      "7. mime2repr[[mime]](obj)\n",
      "8. repr_latex.list(obj)\n",
      "9. repr_list_generic(obj, \"latex\", \"\\\\item %s\\n\", \"\\\\item[\\\\$%s] %s\\n\", \n",
      " .     \"\\\\textbf{\\\\$%s} = %s\", enum_wrap = \"\\\\begin{enumerate}\\n%s\\\\end{enumerate}\\n\", \n",
      " .     named_wrap = \"\\\\begin{description}\\n%s\\\\end{description}\\n\", \n",
      " .     numeric_item = \"\\\\item[{[[%s]]}] %s\\n\", escape_fun = latex_escape)\n",
      "10. vapply(seq_along(mapped), function(i) {\n",
      "  .     nm <- nms[[i]]\n",
      "  .     if (is.na(nm) || nchar(nm) == 0) {\n",
      "  .         sprintf(numeric_item, i, mapped[[i]])\n",
      "  .     }\n",
      "  .     else {\n",
      "  .         sprintf(named_item, nms[[i]], mapped[[i]])\n",
      "  .     }\n",
      "  . }, character(1))\n"
     ]
    },
    {
     "data": {
      "text/plain": [
       "$par\n",
       "[1] 0.0295916 1.0349579\n",
       "\n",
       "$value\n",
       "[1] 10572.6\n",
       "\n",
       "$counts\n",
       "function gradient \n",
       "      35       NA \n",
       "\n",
       "$convergence\n",
       "[1] 0\n",
       "\n",
       "$message\n",
       "NULL\n"
      ]
     },
     "metadata": {},
     "output_type": "display_data"
    }
   ],
   "source": [
    "# MLE function setting\n",
    "normal.likelihood = function(beta, data){\n",
    "  a=beta[1]\n",
    "  b=beta[2]\n",
    "  residuals=data$y-a-b*data$x\n",
    "  log.likelihood=sum(log(dnorm(residuals, 0, sd(residuals))))\n",
    "  return(-log.likelihood)\n",
    "}\n",
    "\n",
    "\n",
    "# MLE using General Optimization Function\n",
    "optim(par=c(0,1), normal.likelihood, data=mydat)"
   ]
  },
  {
   "cell_type": "markdown",
   "metadata": {},
   "source": [
    "## MLE estimation using built-in MLE function\n",
    "----------\n",
    "- Now I confirm whether my results are correct. I use built-in mle function. \n",
    "- Since I explained about the MLE process at the above section, I just display my code and check the answer at this section. \n",
    "- The function *mle* is contained in stats4 package. Also, be careful not to use initial values as a vector. It only allows to input value as a scalar."
   ]
  },
  {
   "cell_type": "code",
   "execution_count": 15,
   "metadata": {},
   "outputs": [
    {
     "data": {
      "text/plain": [
       "\n",
       "Call:\n",
       "mle(minuslogl = normal.likelihood, start = list(a = 0, b = 1))\n",
       "\n",
       "Coefficients:\n",
       "         a          b \n",
       "0.02967972 1.03483345 "
      ]
     },
     "metadata": {},
     "output_type": "display_data"
    }
   ],
   "source": [
    "library(stats4)\n",
    "normal.likelihood = function(a, b){\n",
    "  data=mydat\n",
    "  residuals=data$y-a-b*data$x\n",
    "  log.likelihood=sum(log(dnorm(residuals, 0, sd(residuals))))\n",
    "  return(-log.likelihood)\n",
    "}\n",
    "mle(normal.likelihood, start = list(a=0, b=1))"
   ]
  },
  {
   "cell_type": "markdown",
   "metadata": {},
   "source": [
    "### Results\n",
    "--------\n",
    "Two results are pretty similar. \n"
   ]
  },
  {
   "cell_type": "markdown",
   "metadata": {},
   "source": [
    "References\n",
    "-----------\n",
    "https://en.wikipedia.org/wiki/Maximum_likelihood_estimation"
   ]
  }
 ],
 "metadata": {
  "kernelspec": {
   "display_name": "R",
   "language": "R",
   "name": "ir"
  },
  "language_info": {
   "codemirror_mode": "r",
   "file_extension": ".r",
   "mimetype": "text/x-r-source",
   "name": "R",
   "pygments_lexer": "r",
   "version": "3.4.3"
  }
 },
 "nbformat": 4,
 "nbformat_minor": 2
}
