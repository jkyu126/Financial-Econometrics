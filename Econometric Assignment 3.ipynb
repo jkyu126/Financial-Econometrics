{
 "cells": [
  {
   "cell_type": "markdown",
   "metadata": {},
   "source": [
    "# Econometrics Assignment 3\n",
    "-----\n",
    "\n",
    "**Task 1: Do not use a built-in function to recalcuate the standard errors. **\n",
    "\n",
    "a. Estimate the model with OLS, and report the coefficients, standard errors, t-stats and variance and covariance matrix of the coefficients. <br>\n",
    "b. Calculate Heteroscedasticity-consistent standard errors, and reports t-stats with the Heteroscedasticity-consistent standard errors. \n",
    "\n",
    "**Task 2: Repeat task 1 with a built-in function that controls for Heteroscedasticity.. **"
   ]
  },
  {
   "cell_type": "code",
   "execution_count": 2,
   "metadata": {},
   "outputs": [],
   "source": [
    "library(knitr); library(lmtest); library(sandwich)\n",
    "options(scipen=100, digits=4)\n",
    "opts_chunk$set(fig.path='figure/', fig.align='center', fig.show='hold')\n",
    "options(formatR.arrow=TRUE,width=90)"
   ]
  },
  {
   "cell_type": "markdown",
   "metadata": {},
   "source": [
    "# Download Data"
   ]
  },
  {
   "cell_type": "code",
   "execution_count": 3,
   "metadata": {},
   "outputs": [],
   "source": [
    "mydat<-read.table(\n",
    "  \"http://www.kellogg.northwestern.edu/faculty/petersen/htm/papers/se/test_data.txt\",\n",
    "   col.names=c(\"firm\", \"year\",\"x\", \"y\"))\n",
    "attach(mydat)"
   ]
  },
  {
   "cell_type": "code",
   "execution_count": 4,
   "metadata": {},
   "outputs": [
    {
     "data": {
      "text/html": [
       "<table>\n",
       "<thead><tr><th scope=col>firm</th><th scope=col>year</th><th scope=col>x</th><th scope=col>y</th></tr></thead>\n",
       "<tbody>\n",
       "\t<tr><td>1        </td><td>1        </td><td>-1.113973</td><td> 2.2515  </td></tr>\n",
       "\t<tr><td>1        </td><td>2        </td><td>-0.080854</td><td> 1.2423  </td></tr>\n",
       "\t<tr><td>1        </td><td>3        </td><td>-0.237607</td><td>-1.4264  </td></tr>\n",
       "\t<tr><td>1        </td><td>4        </td><td>-0.152486</td><td>-1.1094  </td></tr>\n",
       "\t<tr><td>1        </td><td>5        </td><td>-0.001426</td><td> 0.9147  </td></tr>\n",
       "\t<tr><td>1        </td><td>6        </td><td>-1.212737</td><td>-1.4247  </td></tr>\n",
       "</tbody>\n",
       "</table>\n"
      ],
      "text/latex": [
       "\\begin{tabular}{r|llll}\n",
       " firm & year & x & y\\\\\n",
       "\\hline\n",
       "\t 1         & 1         & -1.113973 &  2.2515  \\\\\n",
       "\t 1         & 2         & -0.080854 &  1.2423  \\\\\n",
       "\t 1         & 3         & -0.237607 & -1.4264  \\\\\n",
       "\t 1         & 4         & -0.152486 & -1.1094  \\\\\n",
       "\t 1         & 5         & -0.001426 &  0.9147  \\\\\n",
       "\t 1         & 6         & -1.212737 & -1.4247  \\\\\n",
       "\\end{tabular}\n"
      ],
      "text/markdown": [
       "\n",
       "firm | year | x | y | \n",
       "|---|---|---|---|---|---|\n",
       "| 1         | 1         | -1.113973 |  2.2515   | \n",
       "| 1         | 2         | -0.080854 |  1.2423   | \n",
       "| 1         | 3         | -0.237607 | -1.4264   | \n",
       "| 1         | 4         | -0.152486 | -1.1094   | \n",
       "| 1         | 5         | -0.001426 |  0.9147   | \n",
       "| 1         | 6         | -1.212737 | -1.4247   | \n",
       "\n",
       "\n"
      ],
      "text/plain": [
       "  firm year x         y      \n",
       "1 1    1    -1.113973  2.2515\n",
       "2 1    2    -0.080854  1.2423\n",
       "3 1    3    -0.237607 -1.4264\n",
       "4 1    4    -0.152486 -1.1094\n",
       "5 1    5    -0.001426  0.9147\n",
       "6 1    6    -1.212737 -1.4247"
      ]
     },
     "metadata": {},
     "output_type": "display_data"
    },
    {
     "name": "stdout",
     "output_type": "stream",
     "text": [
      "'data.frame':\t5000 obs. of  4 variables:\n",
      " $ firm: int  1 1 1 1 1 1 1 1 1 1 ...\n",
      " $ year: int  1 2 3 4 5 6 7 8 9 10 ...\n",
      " $ x   : num  -1.11397 -0.08085 -0.23761 -0.15249 -0.00143 ...\n",
      " $ y   : num  2.252 1.242 -1.426 -1.109 0.915 ...\n"
     ]
    }
   ],
   "source": [
    "head(mydat);str(mydat)"
   ]
  },
  {
   "cell_type": "markdown",
   "metadata": {},
   "source": [
    "# Task 1.\n",
    "----\n",
    "a. Estimate the model with OLS, and report the coefficients, standard errors, t-stats and variance and covariance matrix of the coefficients. <br>\n",
    "b. Calculate Heteroscedasticity-consistent standard errors, and reports t-stats with the Heteroscedasticity-consistent standard errors."
   ]
  },
  {
   "cell_type": "markdown",
   "metadata": {},
   "source": [
    "### Task 1.(a) is easy. I use lm~ function to estimate OLS."
   ]
  },
  {
   "cell_type": "code",
   "execution_count": 5,
   "metadata": {},
   "outputs": [
    {
     "data": {
      "text/plain": [
       "\n",
       "Call:\n",
       "lm(formula = y ~ x)\n",
       "\n",
       "Residuals:\n",
       "   Min     1Q Median     3Q    Max \n",
       "-6.761 -1.368 -0.017  1.339  8.678 \n",
       "\n",
       "Coefficients:\n",
       "            Estimate Std. Error t value            Pr(>|t|)    \n",
       "(Intercept)   0.0297     0.0284    1.05                 0.3    \n",
       "x             1.0348     0.0286   36.20 <0.0000000000000002 ***\n",
       "---\n",
       "Signif. codes:  0 ‘***’ 0.001 ‘**’ 0.01 ‘*’ 0.05 ‘.’ 0.1 ‘ ’ 1\n",
       "\n",
       "Residual standard error: 2.01 on 4998 degrees of freedom\n",
       "Multiple R-squared:  0.208,\tAdjusted R-squared:  0.208 \n",
       "F-statistic: 1.31e+03 on 1 and 4998 DF,  p-value: <0.0000000000000002\n"
      ]
     },
     "metadata": {},
     "output_type": "display_data"
    }
   ],
   "source": [
    "ols = lm(y~x)\n",
    "summary(ols)"
   ]
  },
  {
   "cell_type": "markdown",
   "metadata": {},
   "source": [
    "### I store OLS results for further comparison."
   ]
  },
  {
   "cell_type": "code",
   "execution_count": 6,
   "metadata": {
    "collapsed": true
   },
   "outputs": [],
   "source": [
    "result = t(as.data.frame(summary(ols)$coefficients[2,1:3]))\n",
    "row.names(result) = c(\"ols\")"
   ]
  },
  {
   "cell_type": "markdown",
   "metadata": {},
   "source": [
    "### For task1.(b), I calculate White standard error, and report t-stats.\n",
    "----\n",
    "**First**, I extract residuals from above OLS formula.<br>\n",
    "**Second**, I put all the squares of the residuals into the diagonal parts of the n by n large matrix, where n equals to the length of variable.<br>\n",
    "**Third**, I calculate variance using White's method, that is, \n",
    "$$var(\\hat{\\beta}) = (X'X)^{-1} X'\\hat{\\Omega}X (X'X)^{-1} $$\n",
    "where the diagonal elements of $\\hat{\\Omega}$ eqals to the square value of OLS residuals, i.e., $\\hat{\\Omega_{ii}} = \\hat{\\epsilon_i}^2$ and $\\hat{\\Omega_{ij}} = 0$ for $i\\neq j$."
   ]
  },
  {
   "cell_type": "code",
   "execution_count": 7,
   "metadata": {
    "collapsed": true
   },
   "outputs": [],
   "source": [
    "e = residuals(ols)\n",
    "omega = matrix(0, length(x), length(x))\n",
    "diag(omega) = e^2"
   ]
  },
  {
   "cell_type": "code",
   "execution_count": 8,
   "metadata": {},
   "outputs": [
    {
     "data": {
      "text/html": [
       "<table>\n",
       "<tbody>\n",
       "\t<tr><td>11.39  </td><td>0.00   </td><td>0.000  </td><td>0.0000 </td><td>0.0000 </td><td>0.00000</td><td>0.0000 </td><td>0.000  </td><td>0.000  </td><td>0.00   </td></tr>\n",
       "\t<tr><td> 0.00  </td><td>1.68   </td><td>0.000  </td><td>0.0000 </td><td>0.0000 </td><td>0.00000</td><td>0.0000 </td><td>0.000  </td><td>0.000  </td><td>0.00   </td></tr>\n",
       "\t<tr><td> 0.00  </td><td>0.00   </td><td>1.465  </td><td>0.0000 </td><td>0.0000 </td><td>0.00000</td><td>0.0000 </td><td>0.000  </td><td>0.000  </td><td>0.00   </td></tr>\n",
       "\t<tr><td> 0.00  </td><td>0.00   </td><td>0.000  </td><td>0.9629 </td><td>0.0000 </td><td>0.00000</td><td>0.0000 </td><td>0.000  </td><td>0.000  </td><td>0.00   </td></tr>\n",
       "\t<tr><td> 0.00  </td><td>0.00   </td><td>0.000  </td><td>0.0000 </td><td>0.7859 </td><td>0.00000</td><td>0.0000 </td><td>0.000  </td><td>0.000  </td><td>0.00   </td></tr>\n",
       "\t<tr><td> 0.00  </td><td>0.00   </td><td>0.000  </td><td>0.0000 </td><td>0.0000 </td><td>0.03975</td><td>0.0000 </td><td>0.000  </td><td>0.000  </td><td>0.00   </td></tr>\n",
       "\t<tr><td> 0.00  </td><td>0.00   </td><td>0.000  </td><td>0.0000 </td><td>0.0000 </td><td>0.00000</td><td>0.7413 </td><td>0.000  </td><td>0.000  </td><td>0.00   </td></tr>\n",
       "\t<tr><td> 0.00  </td><td>0.00   </td><td>0.000  </td><td>0.0000 </td><td>0.0000 </td><td>0.00000</td><td>0.0000 </td><td>5.681  </td><td>0.000  </td><td>0.00   </td></tr>\n",
       "\t<tr><td> 0.00  </td><td>0.00   </td><td>0.000  </td><td>0.0000 </td><td>0.0000 </td><td>0.00000</td><td>0.0000 </td><td>0.000  </td><td>1.632  </td><td>0.00   </td></tr>\n",
       "\t<tr><td> 0.00  </td><td>0.00   </td><td>0.000  </td><td>0.0000 </td><td>0.0000 </td><td>0.00000</td><td>0.0000 </td><td>0.000  </td><td>0.000  </td><td>7.85   </td></tr>\n",
       "</tbody>\n",
       "</table>\n"
      ],
      "text/latex": [
       "\\begin{tabular}{llllllllll}\n",
       "\t 11.39   & 0.00    & 0.000   & 0.0000  & 0.0000  & 0.00000 & 0.0000  & 0.000   & 0.000   & 0.00   \\\\\n",
       "\t  0.00   & 1.68    & 0.000   & 0.0000  & 0.0000  & 0.00000 & 0.0000  & 0.000   & 0.000   & 0.00   \\\\\n",
       "\t  0.00   & 0.00    & 1.465   & 0.0000  & 0.0000  & 0.00000 & 0.0000  & 0.000   & 0.000   & 0.00   \\\\\n",
       "\t  0.00   & 0.00    & 0.000   & 0.9629  & 0.0000  & 0.00000 & 0.0000  & 0.000   & 0.000   & 0.00   \\\\\n",
       "\t  0.00   & 0.00    & 0.000   & 0.0000  & 0.7859  & 0.00000 & 0.0000  & 0.000   & 0.000   & 0.00   \\\\\n",
       "\t  0.00   & 0.00    & 0.000   & 0.0000  & 0.0000  & 0.03975 & 0.0000  & 0.000   & 0.000   & 0.00   \\\\\n",
       "\t  0.00   & 0.00    & 0.000   & 0.0000  & 0.0000  & 0.00000 & 0.7413  & 0.000   & 0.000   & 0.00   \\\\\n",
       "\t  0.00   & 0.00    & 0.000   & 0.0000  & 0.0000  & 0.00000 & 0.0000  & 5.681   & 0.000   & 0.00   \\\\\n",
       "\t  0.00   & 0.00    & 0.000   & 0.0000  & 0.0000  & 0.00000 & 0.0000  & 0.000   & 1.632   & 0.00   \\\\\n",
       "\t  0.00   & 0.00    & 0.000   & 0.0000  & 0.0000  & 0.00000 & 0.0000  & 0.000   & 0.000   & 7.85   \\\\\n",
       "\\end{tabular}\n"
      ],
      "text/markdown": [
       "\n",
       "| 11.39   | 0.00    | 0.000   | 0.0000  | 0.0000  | 0.00000 | 0.0000  | 0.000   | 0.000   | 0.00    | \n",
       "|  0.00   | 1.68    | 0.000   | 0.0000  | 0.0000  | 0.00000 | 0.0000  | 0.000   | 0.000   | 0.00    | \n",
       "|  0.00   | 0.00    | 1.465   | 0.0000  | 0.0000  | 0.00000 | 0.0000  | 0.000   | 0.000   | 0.00    | \n",
       "|  0.00   | 0.00    | 0.000   | 0.9629  | 0.0000  | 0.00000 | 0.0000  | 0.000   | 0.000   | 0.00    | \n",
       "|  0.00   | 0.00    | 0.000   | 0.0000  | 0.7859  | 0.00000 | 0.0000  | 0.000   | 0.000   | 0.00    | \n",
       "|  0.00   | 0.00    | 0.000   | 0.0000  | 0.0000  | 0.03975 | 0.0000  | 0.000   | 0.000   | 0.00    | \n",
       "|  0.00   | 0.00    | 0.000   | 0.0000  | 0.0000  | 0.00000 | 0.7413  | 0.000   | 0.000   | 0.00    | \n",
       "|  0.00   | 0.00    | 0.000   | 0.0000  | 0.0000  | 0.00000 | 0.0000  | 5.681   | 0.000   | 0.00    | \n",
       "|  0.00   | 0.00    | 0.000   | 0.0000  | 0.0000  | 0.00000 | 0.0000  | 0.000   | 1.632   | 0.00    | \n",
       "|  0.00   | 0.00    | 0.000   | 0.0000  | 0.0000  | 0.00000 | 0.0000  | 0.000   | 0.000   | 7.85    | \n",
       "\n",
       "\n"
      ],
      "text/plain": [
       "      [,1]  [,2] [,3]  [,4]   [,5]   [,6]    [,7]   [,8]  [,9]  [,10]\n",
       " [1,] 11.39 0.00 0.000 0.0000 0.0000 0.00000 0.0000 0.000 0.000 0.00 \n",
       " [2,]  0.00 1.68 0.000 0.0000 0.0000 0.00000 0.0000 0.000 0.000 0.00 \n",
       " [3,]  0.00 0.00 1.465 0.0000 0.0000 0.00000 0.0000 0.000 0.000 0.00 \n",
       " [4,]  0.00 0.00 0.000 0.9629 0.0000 0.00000 0.0000 0.000 0.000 0.00 \n",
       " [5,]  0.00 0.00 0.000 0.0000 0.7859 0.00000 0.0000 0.000 0.000 0.00 \n",
       " [6,]  0.00 0.00 0.000 0.0000 0.0000 0.03975 0.0000 0.000 0.000 0.00 \n",
       " [7,]  0.00 0.00 0.000 0.0000 0.0000 0.00000 0.7413 0.000 0.000 0.00 \n",
       " [8,]  0.00 0.00 0.000 0.0000 0.0000 0.00000 0.0000 5.681 0.000 0.00 \n",
       " [9,]  0.00 0.00 0.000 0.0000 0.0000 0.00000 0.0000 0.000 1.632 0.00 \n",
       "[10,]  0.00 0.00 0.000 0.0000 0.0000 0.00000 0.0000 0.000 0.000 7.85 "
      ]
     },
     "metadata": {},
     "output_type": "display_data"
    },
    {
     "name": "stdout",
     "output_type": "stream",
     "text": [
      " num [1:5000, 1:5000] 11.4 0 0 0 0 ...\n"
     ]
    }
   ],
   "source": [
    "omega[1:10, 1:10]; str(omega)"
   ]
  },
  {
   "cell_type": "code",
   "execution_count": 9,
   "metadata": {},
   "outputs": [
    {
     "data": {
      "text/html": [
       "0.000805860961699199"
      ],
      "text/latex": [
       "0.000805860961699199"
      ],
      "text/markdown": [
       "0.000805860961699199"
      ],
      "text/plain": [
       "[1] 0.0008059"
      ]
     },
     "metadata": {},
     "output_type": "display_data"
    },
    {
     "data": {
      "text/html": [
       "0.0283876903199115"
      ],
      "text/latex": [
       "0.0283876903199115"
      ],
      "text/markdown": [
       "0.0283876903199115"
      ],
      "text/plain": [
       "[1] 0.02839"
      ]
     },
     "metadata": {},
     "output_type": "display_data"
    }
   ],
   "source": [
    "(white.var = sum(omega*x^2)/(sum(x^2))^2)\n",
    "(white = sqrt(white.var))"
   ]
  },
  {
   "cell_type": "markdown",
   "metadata": {},
   "source": [
    "### Finally, I report White standard error and t-stats with the comparison of OLS."
   ]
  },
  {
   "cell_type": "code",
   "execution_count": 10,
   "metadata": {
    "collapsed": true
   },
   "outputs": [],
   "source": [
    "white.coef = summary(ols)$coefficients[2,c(\"Estimate\")]\n",
    "white.se = white\n",
    "white.t = white.coef/white.se\n",
    "\n",
    "result = rbind(result, c(white.coef, white.se, white.t))\n",
    "rownames(result)[2] = c(\"white\")"
   ]
  },
  {
   "cell_type": "code",
   "execution_count": 11,
   "metadata": {},
   "outputs": [
    {
     "data": {
      "text/html": [
       "<table>\n",
       "<thead><tr><th></th><th scope=col>Estimate</th><th scope=col>Std. Error</th><th scope=col>t value</th></tr></thead>\n",
       "<tbody>\n",
       "\t<tr><th scope=row>ols</th><td>1.035  </td><td>0.02858</td><td>36.20  </td></tr>\n",
       "\t<tr><th scope=row>white</th><td>1.035  </td><td>0.02839</td><td>36.45  </td></tr>\n",
       "</tbody>\n",
       "</table>\n"
      ],
      "text/latex": [
       "\\begin{tabular}{r|lll}\n",
       "  & Estimate & Std. Error & t value\\\\\n",
       "\\hline\n",
       "\tols & 1.035   & 0.02858 & 36.20  \\\\\n",
       "\twhite & 1.035   & 0.02839 & 36.45  \\\\\n",
       "\\end{tabular}\n"
      ],
      "text/markdown": [
       "\n",
       "| <!--/--> | Estimate | Std. Error | t value | \n",
       "|---|---|\n",
       "| ols | 1.035   | 0.02858 | 36.20   | \n",
       "| white | 1.035   | 0.02839 | 36.45   | \n",
       "\n",
       "\n"
      ],
      "text/plain": [
       "      Estimate Std. Error t value\n",
       "ols   1.035    0.02858    36.20  \n",
       "white 1.035    0.02839    36.45  "
      ]
     },
     "metadata": {},
     "output_type": "display_data"
    }
   ],
   "source": [
    "result"
   ]
  },
  {
   "cell_type": "markdown",
   "metadata": {},
   "source": [
    "# Task 2.\n",
    "----\n",
    "Let's use buit-in function!"
   ]
  },
  {
   "cell_type": "code",
   "execution_count": 12,
   "metadata": {},
   "outputs": [
    {
     "data": {
      "text/plain": [
       "\n",
       "t test of coefficients:\n",
       "\n",
       "            Estimate Std. Error t value            Pr(>|t|)    \n",
       "(Intercept)   0.0297     0.0284    1.05                 0.3    \n",
       "x             1.0348     0.0284   36.44 <0.0000000000000002 ***\n",
       "---\n",
       "Signif. codes:  0 ‘***’ 0.001 ‘**’ 0.01 ‘*’ 0.05 ‘.’ 0.1 ‘ ’ 1\n"
      ]
     },
     "metadata": {},
     "output_type": "display_data"
    }
   ],
   "source": [
    "(white.builtin = coeftest(ols, vcov = function(x) vcovHC(x, method=\"white1\", type=\"HC1\")))"
   ]
  },
  {
   "cell_type": "code",
   "execution_count": 13,
   "metadata": {
    "collapsed": true
   },
   "outputs": [],
   "source": [
    "result = rbind(result, white.builtin[2,c(\"Estimate\", \"Std. Error\", \"t value\")])\n",
    "row.names(result)[3] = c(\"white.builtin\")"
   ]
  },
  {
   "cell_type": "markdown",
   "metadata": {},
   "source": [
    "# This is the final results."
   ]
  },
  {
   "cell_type": "code",
   "execution_count": 14,
   "metadata": {},
   "outputs": [
    {
     "data": {
      "text/html": [
       "<table>\n",
       "<thead><tr><th></th><th scope=col>Estimate</th><th scope=col>Std. Error</th><th scope=col>t value</th></tr></thead>\n",
       "<tbody>\n",
       "\t<tr><th scope=row>ols</th><td>1.035  </td><td>0.02858</td><td>36.20  </td></tr>\n",
       "\t<tr><th scope=row>white</th><td>1.035  </td><td>0.02839</td><td>36.45  </td></tr>\n",
       "\t<tr><th scope=row>white.builtin</th><td>1.035  </td><td>0.02840</td><td>36.44  </td></tr>\n",
       "</tbody>\n",
       "</table>\n"
      ],
      "text/latex": [
       "\\begin{tabular}{r|lll}\n",
       "  & Estimate & Std. Error & t value\\\\\n",
       "\\hline\n",
       "\tols & 1.035   & 0.02858 & 36.20  \\\\\n",
       "\twhite & 1.035   & 0.02839 & 36.45  \\\\\n",
       "\twhite.builtin & 1.035   & 0.02840 & 36.44  \\\\\n",
       "\\end{tabular}\n"
      ],
      "text/markdown": [
       "\n",
       "| <!--/--> | Estimate | Std. Error | t value | \n",
       "|---|---|---|\n",
       "| ols | 1.035   | 0.02858 | 36.20   | \n",
       "| white | 1.035   | 0.02839 | 36.45   | \n",
       "| white.builtin | 1.035   | 0.02840 | 36.44   | \n",
       "\n",
       "\n"
      ],
      "text/plain": [
       "              Estimate Std. Error t value\n",
       "ols           1.035    0.02858    36.20  \n",
       "white         1.035    0.02839    36.45  \n",
       "white.builtin 1.035    0.02840    36.44  "
      ]
     },
     "metadata": {},
     "output_type": "display_data"
    }
   ],
   "source": [
    "result"
   ]
  },
  {
   "cell_type": "markdown",
   "metadata": {},
   "source": [
    "Contact Info: Jinkyu Kim, Business School, Hanyang Univ. email:jkyu126@gmail.com"
   ]
  }
 ],
 "metadata": {
  "kernelspec": {
   "display_name": "R",
   "language": "R",
   "name": "ir"
  },
  "language_info": {
   "codemirror_mode": "r",
   "file_extension": ".r",
   "mimetype": "text/x-r-source",
   "name": "R",
   "pygments_lexer": "r",
   "version": "3.4.2"
  }
 },
 "nbformat": 4,
 "nbformat_minor": 2
}
